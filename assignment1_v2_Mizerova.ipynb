{
 "cells": [
  {
   "cell_type": "markdown",
   "metadata": {},
   "source": [
    "### Assignment1_v2"
   ]
  },
  {
   "cell_type": "markdown",
   "metadata": {},
   "source": [
    "Показать на эксперименте, что верхняя оценка на вероятность коллизии композиционного хеша для строк выполняется O(1/m + L/p). Подробнее в материалах лекции.\n",
    "\n",
    "Построить графики зависимости FPR от длинны строк L и простого модуля p.\n",
    "\n",
    "Эксперименты провести для L = np.linspace(10, 100, 11) и 10 простых чисел p из интервала (100, 1000)\n",
    "\n",
    "Для каждой точки выполнить 10 экспериментов, на графике отобразить стандартное отклонение оценки в каждой точке."
   ]
  },
  {
   "cell_type": "markdown",
   "metadata": {},
   "source": [
    "Соответственно твой FPR = # коллизий * 2 / (1000 * (1000-1)). То есть ты делишь кол-во коллизий на кол-во всевозможных пар строк. Впринципе кол-во строк не принципиально\n",
    "\n",
    "Да, все строки в эксперименте разные\n",
    "\n",
    "Соответственно мы ожидаем рост коллизий с увеличением длинны строк не быстрее линейного\n",
    "\n",
    "И уменьшение коллизий с ростом p по гиперболе"
   ]
  },
  {
   "cell_type": "code",
   "execution_count": 2,
   "metadata": {
    "collapsed": true
   },
   "outputs": [],
   "source": [
    "import numpy as np\n",
    "import sklearn\n",
    "import random\n",
    "import sklearn\n",
    "from matplotlib import pyplot as plt\n",
    "import warnings\n",
    "warnings.filterwarnings(\"ignore\")"
   ]
  },
  {
   "cell_type": "code",
   "execution_count": 3,
   "metadata": {
    "collapsed": true
   },
   "outputs": [],
   "source": [
    "L = np.linspace(10, 100, 11)"
   ]
  },
  {
   "cell_type": "code",
   "execution_count": 4,
   "metadata": {
    "collapsed": true
   },
   "outputs": [],
   "source": [
    "primes = [101,103,107,109,113,127,131,137,139,149,151,157,163,167,173,179,181,191,193,197,199,211,223,227,229,233,239,241,251,257,263,269,271,277,281,283,293,307,311,313,317,331,337,347,349,353,359,367,373,379,383,389,397,401,409,419,421,431,433,439,443,449,457,461,463,467,479,487,491,499,503,509,521,523,541,547,557,563,569,571,577,587,593,599,601,607,613,617,619,631,641,643,647,653,659,661,673,677,683,691,701,709,719,727,733,739,743,751,757,761,769,773,787,797,809,811,821,823,827,829,839,853,857,859,863,877,881,883,887,907,911,919,929,937,941,947,953,967,971,977,983,991,997]"
   ]
  },
  {
   "cell_type": "code",
   "execution_count": 5,
   "metadata": {
    "collapsed": true
   },
   "outputs": [],
   "source": [
    "prime_sample = sorted(random.sample(primes, 10))"
   ]
  },
  {
   "cell_type": "code",
   "execution_count": 6,
   "metadata": {},
   "outputs": [
    {
     "data": {
      "text/plain": [
       "[163, 199, 293, 487, 541, 587, 619, 757, 809, 907]"
      ]
     },
     "execution_count": 6,
     "metadata": {},
     "output_type": "execute_result"
    }
   ],
   "source": [
    "prime_sample"
   ]
  },
  {
   "cell_type": "code",
   "execution_count": 7,
   "metadata": {
    "collapsed": true
   },
   "outputs": [],
   "source": [
    "def hash_int(x, a=112, b=22, p=997):\n",
    "    return (a*x + b) % p\n",
    "\n",
    "def poly_hash(s, x=31, p=997):\n",
    "    h = 0\n",
    "    for j in range(len(s)-1, -1, -1):\n",
    "        h = (h * x + ord(s[j]) + p) % p\n",
    "    return h\n",
    "\n",
    "def final_hash(s, x=31, p=997, a=112, b=22):\n",
    "    return hash_int(poly_hash(s, x, p), a, b, p)"
   ]
  },
  {
   "cell_type": "code",
   "execution_count": 8,
   "metadata": {
    "collapsed": true
   },
   "outputs": [],
   "source": [
    "def get_strings(l, n=1000):\n",
    "    strings = set()\n",
    "    for i in range(n):\n",
    "        strings.add(''.join(random.choice('abcdefghijklmnopqrstuvwxyz') for i in range(int(l))))\n",
    "        \n",
    "    return strings"
   ]
  },
  {
   "cell_type": "code",
   "execution_count": 9,
   "metadata": {
    "collapsed": true
   },
   "outputs": [],
   "source": [
    "from collections import Counter\n",
    "\n",
    "def get_fpr(hashes):\n",
    "    \n",
    "    N = 0\n",
    "    hc = Counter(hashes)\n",
    "    \n",
    "    for i in hc:\n",
    "        if hc[i] > 1:\n",
    "            N += hc[i] // 2\n",
    "    fpr = N * 2 / (1000 *  (1000 - 1))\n",
    "    return fpr"
   ]
  },
  {
   "cell_type": "markdown",
   "metadata": {},
   "source": [
    "Фиксируешь p и проводишь по 10 экспериментов для 11 разных L"
   ]
  },
  {
   "cell_type": "code",
   "execution_count": 10,
   "metadata": {
    "collapsed": true
   },
   "outputs": [],
   "source": [
    "p = random.choice(prime_sample)\n",
    "\n",
    "mean_fpr = []\n",
    "std_fpr = []\n",
    "\n",
    "for l in L:\n",
    "    frp = []\n",
    "    for i in range(10):\n",
    "        strings = get_strings(l)\n",
    "        hashes = [final_hash(string, p) for string in strings]\n",
    "        frp.append(get_fpr(hashes))\n",
    "        \n",
    "    mean_fpr.append(np.mean(frp))\n",
    "    std_fpr.append(np.std(frp))"
   ]
  },
  {
   "cell_type": "code",
   "execution_count": 11,
   "metadata": {},
   "outputs": [
    {
     "data": {
      "image/png": "[encoded data removed]",
      "text/plain": [
       "<matplotlib.figure.Figure at 0x113935da0>"
      ]
     },
     "metadata": {},
     "output_type": "display_data"
    }
   ],
   "source": [
    "plt.errorbar(L, mean_fpr, std_fpr, fmt='-go')\n",
    "plt.xlabel('l')\n",
    "plt.ylabel('fpr')\n",
    "plt.show()"
   ]
  },
  {
   "cell_type": "markdown",
   "metadata": {},
   "source": [
    "Потом фиксируешь L и проводишь по 10 экспериментов для 10 разных p из указанного интервала:"
   ]
  },
  {
   "cell_type": "code",
   "execution_count": 12,
   "metadata": {},
   "outputs": [],
   "source": [
    "l = random.choice(L)\n",
    "\n",
    "mean_fpr = []\n",
    "std_fpr = []\n",
    "\n",
    "for p in prime_sample:\n",
    "    frp = []\n",
    "    for i in range(10):\n",
    "        strings = get_strings(l)\n",
    "        hashes = [final_hash(string, p) for string in strings]\n",
    "        frp.append(get_fpr(hashes))\n",
    "        \n",
    "    mean_fpr.append(np.mean(frp))\n",
    "    std_fpr.append(np.std(frp))"
   ]
  },
  {
   "cell_type": "code",
   "execution_count": 13,
   "metadata": {},
   "outputs": [
    {
     "data": {
      "image/png": "[encoded data removed]",
      "text/plain": [
       "<matplotlib.figure.Figure at 0x115a73c50>"
      ]
     },
     "metadata": {},
     "output_type": "display_data"
    }
   ],
   "source": [
    "plt.errorbar(prime_sample, mean_fpr, std_fpr, fmt='-go')\n",
    "plt.xlabel('p')\n",
    "plt.ylabel('fpr')\n",
    "plt.show()"
   ]
  },
  {
   "cell_type": "code",
   "execution_count": 14,
   "metadata": {},
   "outputs": [
    {
     "data": {
      "text/plain": [
       "[1.0496678061195868e-05,\n",
       " 1.6343008313880708e-05,\n",
       " 2.1301338932884642e-05,\n",
       " 1.4129369360235343e-05,\n",
       " 7.533488577468185e-06,\n",
       " 1.3876054815746508e-05,\n",
       " 1.746337980744173e-05,\n",
       " 1.888791014236202e-05,\n",
       " 1.706875488852352e-05,\n",
       " 1.6210036020017744e-05]"
      ]
     },
     "execution_count": 14,
     "metadata": {},
     "output_type": "execute_result"
    }
   ],
   "source": [
    "std_fpr"
   ]
  },
  {
   "cell_type": "code",
   "execution_count": null,
   "metadata": {
    "collapsed": true
   },
   "outputs": [],
   "source": []
  }
 ],
 "metadata": {
  "kernelspec": {
   "display_name": "Python 3",
   "language": "python",
   "name": "python3"
  },
  "language_info": {
   "codemirror_mode": {
    "name": "ipython",
    "version": 3
   },
   "file_extension": ".py",
   "mimetype": "text/x-python",
   "name": "python",
   "nbconvert_exporter": "python",
   "pygments_lexer": "ipython3",
   "version": "3.6.1"
  }
 },
 "nbformat": 4,
 "nbformat_minor": 2
}

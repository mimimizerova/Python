{
 "cells": [
  {
   "cell_type": "markdown",
   "metadata": {},
   "source": [
    "### Assignment 2 (v2)"
   ]
  },
  {
   "cell_type": "markdown",
   "metadata": {},
   "source": [
    "Используя определение, оценить сложность по радемахеру для логистической регресии на breast cancer dataset из scikit-learn (бинарная классификация). Подробнее в материалах лекции и на вики.\n",
    "Построить график зависимости сложности по радемахеру от коэф L2 регуляризации для alpha=np.logspace(-2,2,5). \n",
    "Для каждой точки выполнить 100 экспериментов, на графике отобразить стандартное отклонение оценки в каждой точке.\n",
    "Не забудьте предварительно применить к признакам standard scaling.\n",
    "\n",
    "Эксперимент выглядит следующим образом. берем выборку. каждому объекту случайно назначаем метку sigma из {-1, 1}. учим лог рег с заданным коэф регуляризации. на обучающей выборке считаем среднее значение margin. margin = sigma * h(x)\n",
    "\n",
    "потом берешь мат ожидание по sigma\n",
    "\n",
    "т.е. делаешь 100 экспериментов с разным seed и усредняешь\n",
    "\n",
    "и получаешь точку на графике для фиксированного коэф регуляризации\n"
   ]
  },
  {
   "cell_type": "code",
   "execution_count": 1,
   "metadata": {
    "collapsed": true
   },
   "outputs": [],
   "source": [
    "import numpy as np\n",
    "import pandas as pd\n",
    "import sklearn\n",
    "import random\n",
    "import sklearn\n",
    "from matplotlib import pyplot as plt\n",
    "import warnings\n",
    "warnings.filterwarnings(\"ignore\")"
   ]
  },
  {
   "cell_type": "code",
   "execution_count": 2,
   "metadata": {
    "collapsed": true
   },
   "outputs": [],
   "source": [
    "from sklearn.datasets import load_breast_cancer\n",
    "\n",
    "dataset = load_breast_cancer()\n",
    "X, y = dataset.data, dataset.target"
   ]
  },
  {
   "cell_type": "code",
   "execution_count": 3,
   "metadata": {
    "collapsed": true
   },
   "outputs": [],
   "source": [
    "from sklearn.preprocessing import StandardScaler\n",
    "\n",
    "scaler = StandardScaler()\n",
    "scaler.fit(X)\n",
    "X_scaled = scaler.transform(X)"
   ]
  },
  {
   "cell_type": "code",
   "execution_count": 4,
   "metadata": {
    "collapsed": true
   },
   "outputs": [],
   "source": [
    "alpha=np.logspace(-2,2,5)"
   ]
  },
  {
   "cell_type": "code",
   "execution_count": 7,
   "metadata": {
    "collapsed": true
   },
   "outputs": [],
   "source": [
    "from sklearn.linear_model import LogisticRegression\n",
    "\n",
    "def experiment(X, y, alpha):\n",
    "    sigma = np.array([random.choice([-1, 1]) for el in range(y.shape[0])])\n",
    "    lr = LogisticRegression(penalty='l2', C=alpha, random_state=np.random.randint(0, 1000, 1)[0]).fit(X, sigma)\n",
    "    h = np.array([lr.decision_function(X[i:i+1,:]) for i in range(y.shape[0])])\n",
    "    margins = sigma.reshape(sigma.shape[0], 1) * h\n",
    "    return margins"
   ]
  },
  {
   "cell_type": "code",
   "execution_count": 8,
   "metadata": {},
   "outputs": [],
   "source": [
    "mean_val = []\n",
    "std_val = []\n",
    "for c in alpha:\n",
    "    vals = []\n",
    "    for exp in range(100):\n",
    "        margins = experiment(X_scaled, y, c)\n",
    "        vals.append(abs(np.mean(margins)))\n",
    "    mean_val.append(np.mean(vals))\n",
    "    std_val.append(np.std(vals))"
   ]
  },
  {
   "cell_type": "code",
   "execution_count": 9,
   "metadata": {},
   "outputs": [
    {
     "data": {
      "image/png": "[encoded data removed]",
      "text/plain": [
       "<matplotlib.figure.Figure at 0x119fbb8d0>"
      ]
     },
     "metadata": {},
     "output_type": "display_data"
    }
   ],
   "source": [
    "plt.errorbar(x=np.arange(len(alpha)), y=mean_val, yerr=std_val, fmt='-go')\n",
    "plt.xlabel('alpha')\n",
    "plt.ylabel('Rademacher values')\n",
    "plt.show()"
   ]
  },
  {
   "cell_type": "markdown",
   "metadata": {
    "collapsed": true
   },
   "source": [
    "Из графика можно заметить, что чем выше альфа - тем выше сложность, причём она возрастает практически линейно."
   ]
  },
  {
   "cell_type": "code",
   "execution_count": null,
   "metadata": {
    "collapsed": true
   },
   "outputs": [],
   "source": []
  }
 ],
 "metadata": {
  "kernelspec": {
   "display_name": "Python 3",
   "language": "python",
   "name": "python3"
  },
  "language_info": {
   "codemirror_mode": {
    "name": "ipython",
    "version": 3
   },
   "file_extension": ".py",
   "mimetype": "text/x-python",
   "name": "python",
   "nbconvert_exporter": "python",
   "pygments_lexer": "ipython3",
   "version": "3.6.1"
  }
 },
 "nbformat": 4,
 "nbformat_minor": 2
}
